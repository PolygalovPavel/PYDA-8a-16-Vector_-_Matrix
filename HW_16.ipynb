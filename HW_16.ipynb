{
 "cells": [
  {
   "cell_type": "markdown",
   "metadata": {},
   "source": [
    "# Домашняя работа"
   ]
  },
  {
   "cell_type": "code",
   "execution_count": 1,
   "metadata": {},
   "outputs": [],
   "source": [
    "import numpy as np\n",
    "import pandas as pd\n",
    "import matplotlib.pyplot as plt"
   ]
  },
  {
   "cell_type": "markdown",
   "metadata": {},
   "source": [
    "### Задание 1\n",
    "Изобразите с помощью matplotlib. Изобразите точку x + 2y + 3z. Найдите угол между векторами x, y и x, z."
   ]
  },
  {
   "cell_type": "code",
   "execution_count": null,
   "metadata": {},
   "outputs": [],
   "source": [
    "x = np.array([1,1])\n",
    "y = np.array([2, 0])\n",
    "z = np.array([0,2])"
   ]
  },
  {
   "cell_type": "code",
   "execution_count": null,
   "metadata": {},
   "outputs": [],
   "source": [
    "plt.plot(x)\n",
    "plt.plot(y)\n",
    "plt.plot(z)"
   ]
  },
  {
   "cell_type": "code",
   "execution_count": null,
   "metadata": {},
   "outputs": [],
   "source": [
    "plt.plot(x + 2 * y + 3 * z)"
   ]
  },
  {
   "cell_type": "code",
   "execution_count": null,
   "metadata": {},
   "outputs": [],
   "source": [
    "import scipy.spatial.distance\n",
    "vectors_xy = np.array([x, y])\n",
    "vectors_xz = np.array([x, z])\n",
    "dist_xy = scipy.spatial.distance.pdist(vectors_xy, 'cosine')\n",
    "dist_xz = scipy.spatial.distance.pdist(vectors_xz, 'cosine')\n",
    "angle_xy = np.rad2deg(np.arccos(1 - dist_xy))\n",
    "angle_xz = np.rad2deg(np.arccos(1 - dist_xz))\n",
    "print(f\"Угол между x и y: {round(angle_xy[0])} градусов\")\n",
    "print(f\"Угол между x и z: {round(angle_xz[0])} градусов\")\n"
   ]
  },
  {
   "cell_type": "markdown",
   "metadata": {},
   "source": [
    "### Задание 2\n",
    "Найдите собственные значения и собственные вектора матриц (необходимо решение на numpy и решение по алгоритму на бумажке). Для матрицы 3x3 можно посмотреть на корни характеристического многочлена, посчитанные в numpy."
   ]
  },
  {
   "cell_type": "code",
   "execution_count": 12,
   "metadata": {},
   "outputs": [],
   "source": [
    "m1 = np.array([[2, 2],\n",
    "               [1, 3]])\n",
    "\n",
    "m2 = np.array([[4, 1, -1],\n",
    "               [1, 4, -1],\n",
    "               [-1, -1, 4]])"
   ]
  },
  {
   "cell_type": "code",
   "execution_count": 13,
   "metadata": {},
   "outputs": [
    {
     "data": {
      "text/plain": [
       "(array([1., 4.]),\n",
       " array([[-0.89442719, -0.70710678],\n",
       "        [ 0.4472136 , -0.70710678]]))"
      ]
     },
     "execution_count": 13,
     "metadata": {},
     "output_type": "execute_result"
    }
   ],
   "source": [
    "np.linalg.eig(m1)"
   ]
  },
  {
   "cell_type": "code",
   "execution_count": 14,
   "metadata": {},
   "outputs": [
    {
     "data": {
      "text/plain": [
       "(array([3., 6., 3.]),\n",
       " array([[-0.81649658,  0.57735027, -0.27658128],\n",
       "        [ 0.40824829,  0.57735027,  0.8035929 ],\n",
       "        [-0.40824829, -0.57735027,  0.52701162]]))"
      ]
     },
     "execution_count": 14,
     "metadata": {},
     "output_type": "execute_result"
    }
   ],
   "source": [
    "np.linalg.eig(m2)"
   ]
  },
  {
   "cell_type": "markdown",
   "metadata": {},
   "source": [
    "### Задание 3\n",
    "Найдите сингулярное разложение матрицы."
   ]
  },
  {
   "cell_type": "code",
   "execution_count": 7,
   "metadata": {},
   "outputs": [],
   "source": [
    "m3 = np.array([[1, 2],\n",
    "               [2, 3]])"
   ]
  },
  {
   "cell_type": "code",
   "execution_count": 10,
   "metadata": {},
   "outputs": [
    {
     "name": "stdout",
     "output_type": "stream",
     "text": [
      "[[1.17082039 1.89442719]\n",
      " [1.89442719 3.06524758]]\n"
     ]
    }
   ],
   "source": [
    "U, s, V = np.linalg.svd(m3)\n",
    "S = np.zeros((m3.shape[0], m3.shape[1]))\n",
    "S[:m3.shape[0], :m3.shape[0]] = np.diag(s)\n",
    "n_component = 1\n",
    "S = S[:, :n_component]\n",
    "V = V[:n_component, :]\n",
    "A = U.dot(S.dot(V))\n",
    "print(A)"
   ]
  },
  {
   "cell_type": "markdown",
   "metadata": {},
   "source": [
    "Ответ преподователя от 27.05.2020\n",
    "\n",
    "Добрый день!\n",
    "\n",
    "Спасибо за задание!\n",
    "\n",
    "Всё сделанное верно!\n",
    "\n",
    "Необходимо добавить решение Задания 2 на листочке по алгоритму из лекции."
   ]
  },
  {
   "cell_type": "markdown",
   "metadata": {},
   "source": [
    "# Решение на листочке (задание 2)"
   ]
  },
  {
   "cell_type": "code",
   "execution_count": 11,
   "metadata": {},
   "outputs": [],
   "source": [
    "m_original = np.array([[2, 2],\n",
    "                       [1, 3]])"
   ]
  },
  {
   "cell_type": "markdown",
   "metadata": {},
   "source": [
    "### шаг 1: умножаем матрицу на [лямда E] (диагональная матрица с лямда)\n",
    "\n",
    "[2-lamda,     2         ]\n",
    "\n",
    "[1,              3-lamda]"
   ]
  },
  {
   "cell_type": "markdown",
   "metadata": {},
   "source": [
    "### шаг 2: получаем детерминант полученной матрицы\n",
    "((2 - lamda) * (3-lamda)) - (2 * 1) = 0\n",
    "\n",
    "6 - 3 * lamda - 2 * lamda + lamda ** 2 - 2 = 0\n",
    "\n",
    "lamda ** 2 - 5 * lamda + 4 = 0"
   ]
  },
  {
   "cell_type": "markdown",
   "metadata": {},
   "source": [
    "### шаг 3: находим корни уравнения\n",
    "\n",
    "а)\n",
    "\n",
    "D = (-5) ** 2 - 4 * 1 * 4 = 25 - 16 = 9\n",
    "\n",
    "\n",
    "б)\n",
    "\n",
    "lamda1 = (5 - 3) / 2 * 1\n",
    "\n",
    "lamda2 = (5 + 3) / 2 * 1\n",
    "\n",
    "в)\n",
    "#### Собственные значения матрицы\n",
    "lamda1 = 1\n",
    "\n",
    "lamda2 = 4"
   ]
  },
  {
   "cell_type": "markdown",
   "metadata": {},
   "source": [
    "### шаг 4.1 для lamda1: \n",
    "\n",
    "а)\n",
    "    \n",
    "{ (2 - 1) * x + 2 * y = 0\n",
    "\n",
    "{ 1 * x + (3 - 1) * y = 0\n",
    "\n",
    "а2)\n",
    "#### Вектор для lamda1\n",
    "x = -2 * y\n",
    "\n",
    "### шаг 4.2 для lamda2: \n",
    "\n",
    "а)\n",
    "    \n",
    "{ (2 - 4) * x + 2 * y = 0\n",
    "\n",
    "{ 1 * x + (3 - 4) * y = 0\n",
    "\n",
    "а2)\n",
    "#### Вектор для lamda2\n",
    "x = y"
   ]
  }
 ],
 "metadata": {
  "kernelspec": {
   "display_name": "Python 3",
   "language": "python",
   "name": "python3"
  },
  "language_info": {
   "codemirror_mode": {
    "name": "ipython",
    "version": 3
   },
   "file_extension": ".py",
   "mimetype": "text/x-python",
   "name": "python",
   "nbconvert_exporter": "python",
   "pygments_lexer": "ipython3",
   "version": "3.7.6"
  }
 },
 "nbformat": 4,
 "nbformat_minor": 2
}
